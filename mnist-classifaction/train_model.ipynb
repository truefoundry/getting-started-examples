{
    "cells": [
     {
      "cell_type": "markdown",
      "metadata": {
       "id": "QOAnoPl-dlSY"
      },
      "source": [
       "# Train and Deploy Model on Truefoundry\n",
       "This notebook demonstrates a demo on how you can train an image classification model on mnist dataset and deploy the model as a Gradio App on truefoundry platform."
      ]
     },
     {
      "cell_type": "markdown",
      "metadata": {
       "id": "2c6nhZIxSvl2",
       "tags": []
      },
      "source": [
       "# 🛠 Setup\n",
       "To follow along with the notebook, you will have to do the following:\n",
       "* Install **mlfoundry** and required ML Libraries\n",
       "* Setup logging\n",
       "* Select the Workspace in which you want to deploy your application.\n",
       "* Install the required packages"
      ]
     },
     {
      "cell_type": "code",
      "execution_count": null,
      "metadata": {
       "colab": {
        "base_uri": "https://localhost:8080/"
       },
       "id": "rnalU7uLTgmr",
       "outputId": "f86ff448-85c4-4d71-8508-19d5fe89cc36"
      },
      "outputs": [],
      "source": [
       "!pip install -U \"mlfoundry\" tensorflow matplotlib"
      ]
     },
     {
      "cell_type": "code",
      "execution_count": null,
      "metadata": {
       "id": "NN133xapzkt7"
      },
      "outputs": [],
      "source": [
       "import logging\n",
       "[logging.root.removeHandler(h) for h in logging.root.handlers]\n",
       "logging.basicConfig(level=logging.INFO, format='%(asctime)s [%(name)s] %(levelname)-8s %(message)s')"
      ]
     },
     {
      "cell_type": "code",
      "execution_count": null,
      "metadata": {
       "colab": {
        "base_uri": "https://localhost:8080/"
       },
       "id": "FmmB5HHfXvES",
       "outputId": "da5fce00-b2b9-4ee4-9d88-b5d24a59cb5c"
      },
      "outputs": [],
      "source": [
       "!mlfoundry login --host https://app.truefoundry.com"
      ]
     },
     {
      "cell_type": "code",
      "execution_count": null,
      "metadata": {},
      "outputs": [],
      "source": [
       "ML_REPO_NAME=input(\"Enter the name of ML Repo:\")"
      ]
     },
     {
      "cell_type": "code",
      "execution_count": null,
      "metadata": {
       "colab": {
        "base_uri": "https://localhost:8080/"
       },
       "id": "29MYl11z2HTj",
       "outputId": "fa8f8d4c-d81f-422d-ae8c-2f7405994009"
      },
      "outputs": [],
      "source": [
       "import mlfoundry\n",
       "\n",
       "client = mlfoundry.get_client()"
      ]
     },
     {
      "cell_type": "markdown",
      "metadata": {
       "id": "ZMUlU9JaFqjb"
      },
      "source": [
       "# MNIST Dataset - Problem Statement and Data Exploration\n",
       "\n",
       "The MNIST dataset is a popular benchmark dataset in the field of machine learning and computer vision. It consists of a large collection of handwritten digits (0-9) in grayscale images, along with their corresponding labels.\n",
       "\n",
       "### Problem Statement\n",
       "\n",
       "The problem associated with the MNIST dataset is to train a model that can accurately classify the given images of handwritten digits into their respective classes. It is a classification problem with 10 classes (0-9), where each image represents a single digit.\n",
       "\n",
       "### Data Exploration\n",
       "\n",
       "Let's explore the MNIST dataset by loading and visualizing some of its samples."
      ]
     },
     {
      "cell_type": "code",
      "execution_count": null,
      "metadata": {
       "colab": {
        "base_uri": "https://localhost:8080/"
       },
       "id": "yobS2EbrGuuU",
       "outputId": "da2bf2e9-9161-4d53-d14c-332a189c3999"
      },
      "outputs": [],
      "source": [
       "import matplotlib.pyplot as plt\n",
       "from tensorflow.keras.datasets import mnist\n",
       "\n",
       "# Load the MNIST dataset\n",
       "(x_train, y_train), (x_test, y_test) = mnist.load_data()\n",
       "# Normalize the pixel values between 0 and 1\n",
       "x_train = x_train / 255.0\n",
       "x_test = x_test / 255.0\n",
       "\n",
       "print(f\"The number of train images: {len(x_train)}\")\n",
       "print(f\"The number of test images: {len(x_test)}\")"
      ]
     },
     {
      "cell_type": "markdown",
      "metadata": {
       "id": "hZV7qQlMG2v3"
      },
      "source": [
       "The MNIST dataset is divided into two sets: a training set (x_train and y_train) and a testing set (x_test and y_test). The training set contains 60,000 images, while the testing set contains 10,000 images.\n",
       "\n",
       "Now, let's visualize some samples from the dataset using matplotlib:"
      ]
     },
     {
      "cell_type": "code",
      "execution_count": null,
      "metadata": {
       "colab": {
        "base_uri": "https://localhost:8080/",
        "height": 473
       },
       "id": "AYV6qMxaHf0K",
       "outputId": "5b4f7607-c3c8-4318-9704-56c4f60ecb65"
      },
      "outputs": [],
      "source": [
       "client.create_ml_repo(ML_REPO_NAME)\n",
       "run = client.create_run(ml_repo=ML_REPO_NAME, name=\"train-model\")\n",
       "\n",
       "# Plot some sample images\n",
       "plt.figure(figsize=(10, 5))\n",
       "for i in range(5):\n",
       "    plt.subplot(2, 5, i+1)\n",
       "    plt.imshow(x_train[i], cmap='gray')\n",
       "    plt.title(f\"Label: {y_train[i]}\")\n",
       "    plt.axis('off')\n",
       "\n",
       "run.log_plots({\"images\": plt})\n",
       "plt.tight_layout()\n",
       "plt.show()"
      ]
     },
     {
      "cell_type": "markdown",
      "metadata": {
       "id": "jZ0w7bA2HkPs"
      },
      "source": [
       "\n",
       "The code above plots a grid of 10 sample images from the training set. Each image is displayed in grayscale, and the corresponding label is shown as the title.\n",
       "\n",
       "You can see that the images are 28x28 pixels in size and represent handwritten digits. The labels indicate the true values of the digits."
      ]
     },
     {
      "cell_type": "markdown",
      "metadata": {
       "id": "dVuzxCrHEzdq"
      },
      "source": [
       "# Train the model\n",
       "\n",
       "\n"
      ]
     },
     {
      "cell_type": "markdown",
      "metadata": {},
      "source": [
       "### Defining the model"
      ]
     },
     {
      "cell_type": "code",
      "execution_count": null,
      "metadata": {},
      "outputs": [],
      "source": [
       "import tensorflow as tf\n",
       "from tensorflow.keras.datasets import mnist\n",
       "# Define the model architecture\n",
       "model = tf.keras.Sequential([\n",
       "    tf.keras.layers.Flatten(input_shape=(28, 28)),\n",
       "    tf.keras.layers.Dense(128, activation='relu'),\n",
       "    tf.keras.layers.Dense(10, activation='softmax')\n",
       "])\n",
       "\n",
       "# Compile the model\n",
       "model.compile(optimizer='adam', loss='sparse_categorical_crossentropy', metrics=['accuracy'])"
      ]
     },
     {
      "cell_type": "markdown",
      "metadata": {},
      "source": [
       "### Log Parameters"
      ]
     },
     {
      "cell_type": "code",
      "execution_count": null,
      "metadata": {},
      "outputs": [],
      "source": [
       "\n",
       "#logging the parameters\n",
       "run.log_params({\"optimizer\": \"adam\", \"loss\": \"sparse_categorical_crossentropy\", \"metric\": [\"accuracy\"]})"
      ]
     },
     {
      "cell_type": "markdown",
      "metadata": {},
      "source": [
       "### Train the model"
      ]
     },
     {
      "cell_type": "code",
      "execution_count": null,
      "metadata": {},
      "outputs": [],
      "source": [
       "# Train the model\n",
       "epochs = 3\n",
       "model.fit(x_train, y_train, epochs=epochs, validation_data=(x_test, y_test))\n",
       "\n",
       "# Evaluate the model\n",
       "loss, accuracy = model.evaluate(x_test, y_test)\n",
       "print(f'Test loss: {loss}')\n",
       "print(f'Test accuracy: {accuracy}')"
      ]
     },
     {
      "cell_type": "markdown",
      "metadata": {},
      "source": [
       "### Log Metrics and Model"
      ]
     },
     {
      "cell_type": "code",
      "execution_count": null,
      "metadata": {
       "colab": {
        "base_uri": "https://localhost:8080/"
       },
       "id": "QYdt42PLp05W",
       "outputId": "2d47d0e1-c9ea-4477-cb5f-6d6a051f465b"
      },
      "outputs": [],
      "source": [
       "#Here we are logging the metrics of the model\n",
       "run.log_metrics(metric_dict={\"accuracy\": accuracy, \"loss\": loss})\n",
       "\n",
       "# Save the trained model\n",
       "model.save('mnist_model.h5')\n",
       "\n",
       "#here we are logging the model\n",
       "run.log_model(\n",
       "    name=\"handwritten-digits-recognition\",\n",
       "    model_file_or_folder='mnist_model.h5',\n",
       "    framework=\"tensorflow\",\n",
       "    description=\"sample model to recognize the handwritten digits\",\n",
       "    metadata={\"accuracy\": accuracy, \"loss\": loss}\n",
       ")\n"
      ]
     },
     {
      "cell_type": "markdown",
      "metadata": {},
      "source": [
       "### Making predictions with the model"
      ]
     },
     {
      "cell_type": "code",
      "execution_count": null,
      "metadata": {},
      "outputs": [],
      "source": [
       "# Make predictions using the model\n",
       "predictions = model.predict(x_test[:10])\n",
       "predicted_labels = [tf.argmax(prediction).numpy() for prediction in predictions]\n",
       "print(f'Predicted labels: {predicted_labels}')"
      ]
     }
    ],
    "metadata": {
     "accelerator": "GPU",
     "colab": {
      "gpuType": "T4",
      "provenance": []
     },
     "kernelspec": {
      "display_name": ".conda-jupyter-base",
      "language": "python",
      "name": "conda-env-.conda-jupyter-base-py"
     },
     "language_info": {
      "codemirror_mode": {
       "name": "ipython",
       "version": 3
      },
      "file_extension": ".py",
      "mimetype": "text/x-python",
      "name": "python",
      "nbconvert_exporter": "python",
      "pygments_lexer": "ipython3",
      "version": "3.11.6"
     }
    },
    "nbformat": 4,
    "nbformat_minor": 4
   }
   