{
  "nbformat": 4,
  "nbformat_minor": 0,
  "metadata": {
    "colab": {
      "provenance": []
    },
    "kernelspec": {
      "name": "python3",
      "display_name": "Python 3"
    },
    "language_info": {
      "name": "python"
    }
  },
  "cells": [
    {
      "cell_type": "markdown",
      "source": [
        "##### This notebook demonstrates a demo of how you can deploy your first service with Truefoundry.\n",
        "\n",
        "---\n"
      ],
      "metadata": {
        "id": "gRhpN7is8PhA"
      }
    },
    {
      "cell_type": "markdown",
      "source": [
        "After you complete the guide, you will have a successfully deployed model. Your deployed API will look like this:\n",
        "\n",
        "![](https://files.readme.io/e1affc0-Screenshot_2022-11-11_at_5.07.48_PM.png)"
      ],
      "metadata": {
        "id": "ZUqbnAknyr57"
      }
    },
    {
      "cell_type": "markdown",
      "source": [
        "## Project structure\n",
        "\n",
        "To complete this guide, you are going to create the following **files**:\n",
        "\n",
        "- `app.py` : contains our inference and FastAPI code\n",
        "- `iris_classifier.joblib` : the model file\n",
        "- `deploy.py`: contains our deployment code\n",
        "- `requirements.txt` : contains our dependencies\n",
        "\n",
        "Your **final file structure** is going to look like this:\n",
        "\n",
        "```\n",
        ".\n",
        "├── app.py\n",
        "├── iris_classifier.joblib\n",
        "├── deploy.py \n",
        "└── requirements.txt\n",
        "```\n",
        "\n",
        "\n",
        "\n",
        "As you can see, all the following files are created in the same folder/directory\n",
        "\n",
        "**Let's create the directory which will contain all this files:-**"
      ],
      "metadata": {
        "id": "gkJQLuPP0Vta"
      }
    },
    {
      "cell_type": "code",
      "source": [
        "%mkdir develop\n",
        "%cd develop"
      ],
      "metadata": {
        "colab": {
          "base_uri": "https://localhost:8080/"
        },
        "id": "tNRHZkr90mLf",
        "outputId": "8ada3cf3-38c4-4d51-8e2b-d2aebd3e0233"
      },
      "execution_count": null,
      "outputs": [
        {
          "output_type": "stream",
          "name": "stdout",
          "text": [
            "/content\n",
            "/content/develop\n"
          ]
        }
      ]
    },
    {
      "cell_type": "markdown",
      "source": [
        "# Setup\n",
        "Let's first setup all the things we need to deploy our service.\n",
        "* Signup or Login on TrueFoundry\n",
        "* Setup ServiceFoundry\n",
        "* Setup Workspace"
      ],
      "metadata": {
        "id": "tfEqLC9b0cMY"
      }
    },
    {
      "cell_type": "markdown",
      "source": [
        "Let's start with installing servicefoundry."
      ],
      "metadata": {
        "id": "B4d_6OnQ2R6e"
      }
    },
    {
      "cell_type": "code",
      "execution_count": null,
      "metadata": {
        "colab": {
          "base_uri": "https://localhost:8080/",
          "height": 1000
        },
        "id": "Y8lgCr9Pwzuw",
        "outputId": "ac0e9102-1649-4357-c059-6cf928110ce0"
      },
      "outputs": [
        {
          "output_type": "stream",
          "name": "stdout",
          "text": [
            "Looking in indexes: https://pypi.org/simple, https://us-python.pkg.dev/colab-wheels/public/simple/\n",
            "Collecting servicefoundry\n",
            "  Downloading servicefoundry-0.6.1-py3-none-any.whl (103 kB)\n",
            "\u001b[K     |████████████████████████████████| 103 kB 14.3 MB/s \n",
            "\u001b[?25hCollecting Mako<2.0.0,>=1.1.6\n",
            "  Downloading Mako-1.2.4-py3-none-any.whl (78 kB)\n",
            "\u001b[K     |████████████████████████████████| 78 kB 2.2 MB/s \n",
            "\u001b[?25hRequirement already satisfied: pydantic<2.0.0,>=1.9.1 in /usr/local/lib/python3.8/dist-packages (from servicefoundry) (1.10.2)\n",
            "Requirement already satisfied: importlib-metadata<5.0,>=4.2 in /usr/local/lib/python3.8/dist-packages (from servicefoundry) (4.13.0)\n",
            "Collecting requests<3.0.0,>=2.27.1\n",
            "  Downloading requests-2.28.1-py3-none-any.whl (62 kB)\n",
            "\u001b[K     |████████████████████████████████| 62 kB 481 kB/s \n",
            "\u001b[?25hRequirement already satisfied: PyYAML<7.0,>=6.0 in /usr/local/lib/python3.8/dist-packages (from servicefoundry) (6.0)\n",
            "Collecting pygments<3.0.0,>=2.12.0\n",
            "  Downloading Pygments-2.13.0-py3-none-any.whl (1.1 MB)\n",
            "\u001b[K     |████████████████████████████████| 1.1 MB 85.7 MB/s \n",
            "\u001b[?25hRequirement already satisfied: importlib-resources<6.0.0,>=5.2.0 in /usr/local/lib/python3.8/dist-packages (from servicefoundry) (5.10.0)\n",
            "Collecting PyJWT<3.0.0,>=2.3.0\n",
            "  Downloading PyJWT-2.6.0-py3-none-any.whl (20 kB)\n",
            "Collecting uvicorn<0.19.0,>=0.18.2\n",
            "  Downloading uvicorn-0.18.3-py3-none-any.whl (57 kB)\n",
            "\u001b[K     |████████████████████████████████| 57 kB 2.4 MB/s \n",
            "\u001b[?25hCollecting questionary<2.0.0,>=1.10.0\n",
            "  Downloading questionary-1.10.0-py3-none-any.whl (31 kB)\n",
            "Collecting fastapi<0.79.0,>=0.78.0\n",
            "  Downloading fastapi-0.78.0-py3-none-any.whl (54 kB)\n",
            "\u001b[K     |████████████████████████████████| 54 kB 1.0 MB/s \n",
            "\u001b[?25hRequirement already satisfied: filelock<4.0.0,>=3.8.0 in /usr/local/lib/python3.8/dist-packages (from servicefoundry) (3.8.0)\n",
            "Collecting python-dotenv<0.21.0,>=0.20.0\n",
            "  Downloading python_dotenv-0.20.0-py3-none-any.whl (17 kB)\n",
            "Collecting rich-click<2.0.0,>=1.2.1\n",
            "  Downloading rich_click-1.6.0-py3-none-any.whl (19 kB)\n",
            "Collecting prometheus-client<0.15.0,>=0.14.1\n",
            "  Downloading prometheus_client-0.14.1-py3-none-any.whl (59 kB)\n",
            "\u001b[K     |████████████████████████████████| 59 kB 4.1 MB/s \n",
            "\u001b[?25hCollecting GitPython<4.0.0,>=3.1.27\n",
            "  Downloading GitPython-3.1.29-py3-none-any.whl (182 kB)\n",
            "\u001b[K     |████████████████████████████████| 182 kB 54.5 MB/s \n",
            "\u001b[?25hCollecting click<9.0.0,>=8.0.4\n",
            "  Downloading click-8.1.3-py3-none-any.whl (96 kB)\n",
            "\u001b[K     |████████████████████████████████| 96 kB 3.1 MB/s \n",
            "\u001b[?25hCollecting gitignorefile<2.0.0,>=1.1.2\n",
            "  Downloading gitignorefile-1.1.2.tar.gz (12 kB)\n",
            "  Installing build dependencies ... \u001b[?25l\u001b[?25hdone\n",
            "  Getting requirements to build wheel ... \u001b[?25l\u001b[?25hdone\n",
            "    Preparing wheel metadata ... \u001b[?25l\u001b[?25hdone\n",
            "Collecting python-socketio[client]<6.0.0,>=5.5.2\n",
            "  Downloading python_socketio-5.7.2-py3-none-any.whl (56 kB)\n",
            "\u001b[K     |████████████████████████████████| 56 kB 4.3 MB/s \n",
            "\u001b[?25hRequirement already satisfied: python-dateutil<3.0.0,>=2.8.2 in /usr/local/lib/python3.8/dist-packages (from servicefoundry) (2.8.2)\n",
            "Requirement already satisfied: packaging<22.0,>=21.3 in /usr/local/lib/python3.8/dist-packages (from servicefoundry) (21.3)\n",
            "Collecting rich<13.0.0,>=12.0.0\n",
            "  Downloading rich-12.6.0-py3-none-any.whl (237 kB)\n",
            "\u001b[K     |████████████████████████████████| 237 kB 90.8 MB/s \n",
            "\u001b[?25hRequirement already satisfied: typing-extensions<5.0.0,>=4.3.0 in /usr/local/lib/python3.8/dist-packages (from servicefoundry) (4.4.0)\n",
            "Collecting starlette==0.19.1\n",
            "  Downloading starlette-0.19.1-py3-none-any.whl (63 kB)\n",
            "\u001b[K     |████████████████████████████████| 63 kB 1.9 MB/s \n",
            "\u001b[?25hCollecting anyio<5,>=3.4.0\n",
            "  Downloading anyio-3.6.2-py3-none-any.whl (80 kB)\n",
            "\u001b[K     |████████████████████████████████| 80 kB 10.2 MB/s \n",
            "\u001b[?25hRequirement already satisfied: idna>=2.8 in /usr/local/lib/python3.8/dist-packages (from anyio<5,>=3.4.0->starlette==0.19.1->fastapi<0.79.0,>=0.78.0->servicefoundry) (2.10)\n",
            "Collecting sniffio>=1.1\n",
            "  Downloading sniffio-1.3.0-py3-none-any.whl (10 kB)\n",
            "Collecting gitdb<5,>=4.0.1\n",
            "  Downloading gitdb-4.0.10-py3-none-any.whl (62 kB)\n",
            "\u001b[K     |████████████████████████████████| 62 kB 1.3 MB/s \n",
            "\u001b[?25hCollecting smmap<6,>=3.0.1\n",
            "  Downloading smmap-5.0.0-py3-none-any.whl (24 kB)\n",
            "Requirement already satisfied: zipp>=0.5 in /usr/local/lib/python3.8/dist-packages (from importlib-metadata<5.0,>=4.2->servicefoundry) (3.11.0)\n",
            "Requirement already satisfied: MarkupSafe>=0.9.2 in /usr/local/lib/python3.8/dist-packages (from Mako<2.0.0,>=1.1.6->servicefoundry) (2.0.1)\n",
            "Requirement already satisfied: pyparsing!=3.0.5,>=2.0.2 in /usr/local/lib/python3.8/dist-packages (from packaging<22.0,>=21.3->servicefoundry) (3.0.9)\n",
            "Requirement already satisfied: six>=1.5 in /usr/local/lib/python3.8/dist-packages (from python-dateutil<3.0.0,>=2.8.2->servicefoundry) (1.15.0)\n",
            "Collecting bidict>=0.21.0\n",
            "  Downloading bidict-0.22.0-py3-none-any.whl (36 kB)\n",
            "Collecting python-engineio>=4.3.0\n",
            "  Downloading python_engineio-4.3.4-py3-none-any.whl (52 kB)\n",
            "\u001b[K     |████████████████████████████████| 52 kB 1.3 MB/s \n",
            "\u001b[?25hCollecting websocket-client>=0.54.0\n",
            "  Downloading websocket_client-1.4.2-py3-none-any.whl (55 kB)\n",
            "\u001b[K     |████████████████████████████████| 55 kB 3.4 MB/s \n",
            "\u001b[?25hRequirement already satisfied: prompt_toolkit<4.0,>=2.0 in /usr/local/lib/python3.8/dist-packages (from questionary<2.0.0,>=1.10.0->servicefoundry) (2.0.10)\n",
            "Requirement already satisfied: wcwidth in /usr/local/lib/python3.8/dist-packages (from prompt_toolkit<4.0,>=2.0->questionary<2.0.0,>=1.10.0->servicefoundry) (0.2.5)\n",
            "Requirement already satisfied: urllib3<1.27,>=1.21.1 in /usr/local/lib/python3.8/dist-packages (from requests<3.0.0,>=2.27.1->servicefoundry) (1.24.3)\n",
            "Requirement already satisfied: charset-normalizer<3,>=2 in /usr/local/lib/python3.8/dist-packages (from requests<3.0.0,>=2.27.1->servicefoundry) (2.1.1)\n",
            "Requirement already satisfied: certifi>=2017.4.17 in /usr/local/lib/python3.8/dist-packages (from requests<3.0.0,>=2.27.1->servicefoundry) (2022.9.24)\n",
            "Collecting commonmark<0.10.0,>=0.9.0\n",
            "  Downloading commonmark-0.9.1-py2.py3-none-any.whl (51 kB)\n",
            "\u001b[K     |████████████████████████████████| 51 kB 7.2 MB/s \n",
            "\u001b[?25hCollecting h11>=0.8\n",
            "  Downloading h11-0.14.0-py3-none-any.whl (58 kB)\n",
            "\u001b[K     |████████████████████████████████| 58 kB 5.7 MB/s \n",
            "\u001b[?25hBuilding wheels for collected packages: gitignorefile\n",
            "  Building wheel for gitignorefile (PEP 517) ... \u001b[?25l\u001b[?25hdone\n",
            "  Created wheel for gitignorefile: filename=gitignorefile-1.1.2-py3-none-any.whl size=6686 sha256=29d496eb76508a468ed44b62507b39c86075c29185664a708cec146bea36d521\n",
            "  Stored in directory: /root/.cache/pip/wheels/e4/a5/d1/c52d0ff8f565a8a52619af84145e9b54e74bea137a1de51250\n",
            "Successfully built gitignorefile\n",
            "Installing collected packages: sniffio, smmap, python-engineio, pygments, commonmark, bidict, anyio, websocket-client, starlette, rich, requests, python-socketio, h11, gitdb, click, uvicorn, rich-click, questionary, python-dotenv, PyJWT, prometheus-client, Mako, GitPython, gitignorefile, fastapi, servicefoundry\n",
            "  Attempting uninstall: pygments\n",
            "    Found existing installation: Pygments 2.6.1\n",
            "    Uninstalling Pygments-2.6.1:\n",
            "      Successfully uninstalled Pygments-2.6.1\n",
            "  Attempting uninstall: requests\n",
            "    Found existing installation: requests 2.23.0\n",
            "    Uninstalling requests-2.23.0:\n",
            "      Successfully uninstalled requests-2.23.0\n",
            "  Attempting uninstall: click\n",
            "    Found existing installation: click 7.1.2\n",
            "    Uninstalling click-7.1.2:\n",
            "      Successfully uninstalled click-7.1.2\n",
            "  Attempting uninstall: prometheus-client\n",
            "    Found existing installation: prometheus-client 0.15.0\n",
            "    Uninstalling prometheus-client-0.15.0:\n",
            "      Successfully uninstalled prometheus-client-0.15.0\n",
            "\u001b[31mERROR: pip's dependency resolver does not currently take into account all the packages that are installed. This behaviour is the source of the following dependency conflicts.\n",
            "ipython 7.9.0 requires jedi>=0.10, which is not installed.\n",
            "flask 1.1.4 requires click<8.0,>=5.1, but you have click 8.1.3 which is incompatible.\u001b[0m\n",
            "Successfully installed GitPython-3.1.29 Mako-1.2.4 PyJWT-2.6.0 anyio-3.6.2 bidict-0.22.0 click-8.1.3 commonmark-0.9.1 fastapi-0.78.0 gitdb-4.0.10 gitignorefile-1.1.2 h11-0.14.0 prometheus-client-0.14.1 pygments-2.13.0 python-dotenv-0.20.0 python-engineio-4.3.4 python-socketio-5.7.2 questionary-1.10.0 requests-2.28.1 rich-12.6.0 rich-click-1.6.0 servicefoundry-0.6.1 smmap-5.0.0 sniffio-1.3.0 starlette-0.19.1 uvicorn-0.18.3 websocket-client-1.4.2\n"
          ]
        },
        {
          "output_type": "display_data",
          "data": {
            "application/vnd.colab-display-data+json": {
              "pip_warning": {
                "packages": [
                  "pygments"
                ]
              }
            }
          },
          "metadata": {}
        }
      ],
      "source": [
        "pip install -U \"servicefoundry\""
      ]
    },
    {
      "cell_type": "markdown",
      "source": [
        "Run the script below to login to servicefoundry\n",
        "\n",
        "> If your TrueFoundry is hosted anywhere other then \"https://app.truefoundry.com\" do ensure to change the TRUEFOUNDRY_HOST"
      ],
      "metadata": {
        "id": "BQ7tTiL12WjJ"
      }
    },
    {
      "cell_type": "code",
      "source": [
        "import logging\n",
        "[logging.root.removeHandler(h) for h in logging.root.handlers]\n",
        "logging.basicConfig(level=logging.INFO, format='%(asctime)s [%(name)s] %(levelname)-8s %(message)s')"
      ],
      "metadata": {
        "colab": {
          "base_uri": "https://localhost:8080/"
        },
        "id": "7y-VGBv8xPZC",
        "outputId": "7f0579fb-59ce-40da-fcc3-34eb9ebf2a55"
      },
      "execution_count": null,
      "outputs": [
        {
          "output_type": "stream",
          "name": "stdout",
          "text": [
            "\u001b[2;36m[12/14/22 08:58:19]\u001b[0m\u001b[2;36m \u001b[0m\u001b[31mWARNING \u001b[0m TFY_API_KEY env var is already set. When running   \n",
            "\u001b[2;36m                    \u001b[0m         servicefoundry, it will use the api key to         \n",
            "\u001b[2;36m                    \u001b[0m         authorize.                                         \n",
            "\u001b[2;36m                    \u001b[0m         Login will just save the credentials on disk.      \n",
            "Already logged in to 'https://app.develop.truefoundry.tech' as 'user-truefoundry' ('user@truefoundry.com')\n",
            "Please use `sfy login --relogin` or `sfy.login(relogin=True)` to force relogin\n",
            "\n"
          ]
        }
      ]
    },
    {
      "cell_type": "code",
      "source": [
        "!sfy login --relogin"
      ],
      "metadata": {
        "id": "IkXbOJVv8eNE"
      },
      "execution_count": null,
      "outputs": []
    },
    {
      "cell_type": "markdown",
      "source": [
        "### Workspace FQN\n",
        "Once you run the cell below you will get a prompt to enter your workspace. <br>\n",
        "* Step 1: Click on the link given in the prompt.\n",
        "* Step 2: Identify the Workspace you want to deploy the application in. \n",
        "* Step 3: Copy the Workspace FQN <br>\n",
        "![Copying Workspace FQN](https://files.readme.io/730fee2-Screenshot_2023-02-28_at_2.08.34_PM.png)\n",
        "* Step 4: Paste the Workspace FQN in the prompt and press enter."
      ],
      "metadata": {
        "id": "wov-JTue8gEF"
      }
    },
    {
      "cell_type": "code",
      "source": [
        "# Copy workspace FQN from https://app.truefoundry.com/workspaces\n",
        "from getpass import getpass\n",
        "WORKSPACE=getpass(\"Please enter you WORKSPACE_FQN (https://app.truefoundry.com/workspaces):\")"
      ],
      "metadata": {
        "id": "XP_ib5m48k7a"
      },
      "execution_count": null,
      "outputs": []
    },
    {
      "cell_type": "markdown",
      "source": [
        "### API KEY\n",
        "Once you run the cell below you will get a prompt to enter your API KEY. <br>\n",
        "* Step 1: Click on the link given in the prompt.\n",
        "* Step 2: Click on Create New API Key button\n",
        "* Step 3: Enter the name you want to give to the API KEY and then click on generate\n",
        "* Step 4: Copy the API KEY, You can also download the API KEY for later use <br>\n",
        "![Copying API KEY](https://files.readme.io/201c8aa-Screenshot_2023-02-28_at_2.28.17_PM.png)\n",
        "* Step 5: Paste the API KEY in the prompt and press enter."
      ],
      "metadata": {
        "id": "zvxsm3_l8no5"
      }
    },
    {
      "cell_type": "code",
      "source": [
        "TFY_API_KEY = getpass(\"Please enter your API Key (https://app.truefoundry.com/settings):\")"
      ],
      "metadata": {
        "id": "AugQlp_18q5u"
      },
      "execution_count": null,
      "outputs": []
    },
    {
      "cell_type": "markdown",
      "source": [
        "# Step 1: Fetch model\n",
        "\n",
        "## Model details\n",
        "\n",
        "For this guide, we have already trained a model.  \n",
        "The given model has been trained on _iris dataset_.  Then it is stored as a joblib file in [google drive](https://drive.google.com/file/d/1-9nwjs6F7cp_AhAlBAWZHMXG8yb2q_LR/view).\n",
        "\n",
        "> **Attributes** :  \n",
        "> sepal length in cm, sepal width in cm, petal length in cm, petal width in cm\n",
        ">\n",
        "> **Predicted Attribute** :  \n",
        "> class of iris plant (one of the following - Iris Setosa, Iris Versicolour, Iris Virginica)\n",
        "\n",
        "## Download instructions\n",
        "\n",
        "Download the model from the following [link](https://drive.google.com/file/d/1-9nwjs6F7cp_AhAlBAWZHMXG8yb2q_LR/view).  \n",
        "Then move the model in your dev directory we created.\n",
        "\n",
        "Afterwards, your directory should look like this :\n",
        "\n",
        "```\n",
        ".\n",
        "└── iris_classifier.joblib\n",
        "```"
      ],
      "metadata": {
        "id": "n41XXaJD25fM"
      }
    },
    {
      "cell_type": "markdown",
      "source": [
        "## Step 2: Implement the inference service code.\n",
        "\n",
        "The first step is to create a web API and deploy the model.  \n",
        "For this we are going to use [FastAPI](https://fastapi.tiangolo.com/) for this. FastAPI is a modern, intuitive web framework for building web APIs in python.\n",
        "\n",
        "Create the `app.py` and `requirements.txt` files in the same directory where the model is stored.\n",
        "\n",
        "```\n",
        ".\n",
        "├── iris_classifier.joblib\n",
        "├── app.py\n",
        "└── requirements.txt\n",
        "```"
      ],
      "metadata": {
        "id": "wmy0aNHS3nnQ"
      }
    },
    {
      "cell_type": "markdown",
      "source": [
        "### **`app.py`**"
      ],
      "metadata": {
        "id": "2BrljaTI8ugP"
      }
    },
    {
      "cell_type": "code",
      "source": [
        "%%writefile app.py\n",
        "import os\n",
        "import joblib\n",
        "import pandas as pd\n",
        "from fastapi import FastAPI\n",
        "\n",
        "model = joblib.load(\"iris_classifier.joblib\")\n",
        "\n",
        "app = FastAPI()\n",
        "\n",
        "@app.get(\"/predict\")\n",
        "def predict(\n",
        "    sepal_length: float, sepal_width: float, petal_length: float, petal_width: float\n",
        "):\n",
        "    data = dict(\n",
        "        sepal_length=sepal_length,\n",
        "        sepal_width=sepal_width,\n",
        "        petal_length=petal_length,\n",
        "        petal_width=petal_width,\n",
        "    )\n",
        "    prediction = int(model.predict(pd.DataFrame([data]))[0])\n",
        "    return {\"prediction\": prediction}"
      ],
      "metadata": {
        "colab": {
          "base_uri": "https://localhost:8080/"
        },
        "id": "iUqqXRVeyAdt",
        "outputId": "fe7b2dc2-a494-4e29-c5ea-65c7d9b88acb"
      },
      "execution_count": null,
      "outputs": [
        {
          "output_type": "stream",
          "name": "stdout",
          "text": [
            "Writing app.py\n"
          ]
        }
      ]
    },
    {
      "cell_type": "markdown",
      "source": [
        "Click on this [link](https://docs.truefoundry.com/recipes/create-a-fastapi-service-code-to-deploy-model) to understand the **`app.py`**:\n"
      ],
      "metadata": {
        "id": "6zYON72f3ydW"
      }
    },
    {
      "cell_type": "markdown",
      "source": [
        "### **`requirements.txt`**"
      ],
      "metadata": {
        "id": "2PUp1vqx817p"
      }
    },
    {
      "cell_type": "code",
      "source": [
        "%%writefile requirements.txt\n",
        "fastapi==0.81.0\n",
        "uvicorn==0.18.3\n",
        "scikit-learn==1.0.2\n",
        "joblib\n",
        "pandas"
      ],
      "metadata": {
        "colab": {
          "base_uri": "https://localhost:8080/"
        },
        "id": "Vx_cwfcoyAaE",
        "outputId": "a6c2d075-1fa5-49f4-c67a-2d417586428d"
      },
      "execution_count": null,
      "outputs": [
        {
          "output_type": "stream",
          "name": "stdout",
          "text": [
            "Writing requirements.txt\n"
          ]
        }
      ]
    },
    {
      "cell_type": "markdown",
      "source": [
        "## Step 3: Deploying the inference API\n",
        "\n",
        "You can deploy services on Truefoundry programmatically via our **Python SDK**.\n",
        "\n",
        "Create a `deploy.py`, after which our file structure will look like this:\n",
        "\n",
        "**File Structure**\n",
        "\n",
        "```Text Text\n",
        ".\n",
        "├── iris_classifier.joblib\n",
        "├── app.py\n",
        "├── deploy.py\n",
        "└── requirements.txt\n",
        "```\n",
        "\n",
        "\n",
        "\n",
        "### **`deploy.py`**"
      ],
      "metadata": {
        "id": "R2Q926YI4Yan"
      }
    },
    {
      "cell_type": "code",
      "source": [
        "%%writefile deploy.py\n",
        "import logging\n",
        "from servicefoundry import Build, PythonBuild, Service, Resources\n",
        "\n",
        "logging.basicConfig(level=logging.INFO)\n",
        "\n",
        "image = Build(\n",
        "    build_spec=PythonBuild(\n",
        "        command=\"uvicorn app:app --port 8000 --host 0.0.0.0\",\n",
        "        requirements_path=\"requirements.txt\"\n",
        "    )\n",
        ")\n",
        "\n",
        "service = Service(\n",
        "    name=\"ml-deploy\",\n",
        "    image=image,\n",
        "    ports=[{\"port\": 8000}],\n",
        "    resources=Resources(memory_limit=1500, memory_request=1000),\n",
        "    env={\n",
        "        \"UVICORN_WEB_CONCURRENCY\": \"1\",\n",
        "        \"ENVIRONMENT\": \"dev\"\n",
        "    }\n",
        ")\n",
        "service.deploy(workspace_fqn=WORKSPACE)"
      ],
      "metadata": {
        "colab": {
          "base_uri": "https://localhost:8080/"
        },
        "id": "7pqgBDBmyAX1",
        "outputId": "d59b16ed-4e72-4094-f0c4-d1e802088c8b"
      },
      "execution_count": null,
      "outputs": [
        {
          "output_type": "stream",
          "name": "stdout",
          "text": [
            "Overwriting deploy.py\n"
          ]
        }
      ]
    },
    {
      "cell_type": "markdown",
      "source": [
        "Click on this [link](https://docs.truefoundry.com/recipes/deploy-fastapi-service-via-python) to understand the **`deploy.py`**:"
      ],
      "metadata": {
        "id": "I61_mM7Y447C"
      }
    },
    {
      "cell_type": "markdown",
      "source": [
        "Now to deploy our FastAPI Service run the command below"
      ],
      "metadata": {
        "id": "6ex8BEPH5OY5"
      }
    },
    {
      "cell_type": "code",
      "source": [
        "!python deploy.py"
      ],
      "metadata": {
        "colab": {
          "base_uri": "https://localhost:8080/"
        },
        "id": "jMYgmbFk5Jd0",
        "outputId": "c6a1212b-7096-44f3-ea4e-d75565ca4e0f"
      },
      "execution_count": null,
      "outputs": [
        {
          "output_type": "stream",
          "name": "stdout",
          "text": [
            "INFO:servicefoundry:Logged in to 'https://app.develop.truefoundry.tech' as 'user-truefoundry' (user@truefoundry.com)\n",
            "INFO:servicefoundry:Uploading code for service 'fastapi'\n",
            "INFO:servicefoundry:Archiving contents of dir: '/content/develop'\n",
            "INFO:servicefoundry:Neither `.tfyignore` file found in /content/develop nor a valid git repository found. We recommend you to create .tfyignore file and add file patterns to ignore\n",
            "INFO:servicefoundry:Code archive size: '1.88 KiB'\n",
            "INFO:servicefoundry:🚀 Deployment started for application 'fastapi'. Deployment FQN is 'tfy-dev-cluster:adijha:fastapi:7'.\n",
            "INFO:servicefoundry:You can find the application on the dashboard:- 'https://app.develop.truefoundry.tech/applications/clbcbrq36003u1ppxftcg52ab?tab=deployments'\n"
          ]
        }
      ]
    },
    {
      "cell_type": "code",
      "source": [],
      "metadata": {
        "id": "Vab-A1u95q2x"
      },
      "execution_count": null,
      "outputs": []
    }
  ]
}