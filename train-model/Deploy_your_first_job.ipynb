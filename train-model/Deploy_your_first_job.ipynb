{
  "cells": [
    {
      "cell_type": "markdown",
      "metadata": {
        "id": "KPsrbcty6JfS"
      },
      "source": [
        "##### This notebook demonstrates a demo of how you can deploy your first job with Truefoundry.\n",
        "\n",
        "---\n"
      ]
    },
    {
      "cell_type": "markdown",
      "metadata": {
        "id": "Q9eRIwP76rBv"
      },
      "source": [
        "After you complete the notebook, you will have a successful deployed a job to train a model on the iris dataser. Your jobs deployment dashboard will look like this:\n",
        "\n",
        "![](https://files.readme.io/2f6871c-Screenshot_2022-11-16_at_11.43.31_PM.png)\n"
      ]
    },
    {
      "cell_type": "markdown",
      "metadata": {
        "id": "RbdHA8sf6qm4"
      },
      "source": [
        "## Project structure\n",
        "\n",
        "To complete this guide, you are going to create the following **files**:\n",
        "\n",
        "- `train.py` : contains our training code\n",
        "- `requirements.txt` : contains our dependencies\n",
        "- `deploy.py` contains our deployment code ( you can also use a deployment configuration for deploying using a YAML file)\n",
        "\n",
        "Your **final file structure** is going to look like this:\n",
        "\n",
        "```\n",
        ".\n",
        "├── train.py\n",
        "├── deploy.py\n",
        "└── requirements.txt\n",
        "```\n",
        "\n",
        "As you can see, all the following files are created in the same folder/directory\n",
        "\n",
        "**Let's create the directory which will contain all this files:-**\n"
      ]
    },
    {
      "cell_type": "code",
      "execution_count": null,
      "metadata": {
        "colab": {
          "base_uri": "https://localhost:8080/"
        },
        "id": "WNso7zEy6UfI",
        "outputId": "0a1b934c-65b6-490f-c672-e10bee256f19"
      },
      "outputs": [
        {
          "name": "stdout",
          "output_type": "stream",
          "text": [
            "/content/develop\n"
          ]
        }
      ],
      "source": [
        "%mkdir develop\n",
        "%cd develop"
      ]
    },
    {
      "cell_type": "markdown",
      "metadata": {
        "id": "1ag-WSEf642R"
      },
      "source": [
        "# Setup\n",
        "\n",
        "Let's first setup all the things we need to deploy our service.\n",
        "\n",
        "- Signup or Login on TrueFoundry\n",
        "- Setup ServiceFoundry\n",
        "- Setup Workspace\n"
      ]
    },
    {
      "cell_type": "markdown",
      "metadata": {
        "id": "Vr3iFsrv67Mc"
      },
      "source": [
        "Let's start with installing servicefoundry.\n"
      ]
    },
    {
      "cell_type": "code",
      "execution_count": null,
      "metadata": {
        "colab": {
          "base_uri": "https://localhost:8080/"
        },
        "id": "x5HP_7Qt6pqw",
        "outputId": "8bcd94b9-537f-4399-e958-d6e29a3a99c0"
      },
      "outputs": [],
      "source": [
        "!pip install -U \"servicefoundry\""
      ]
    },
    {
      "cell_type": "code",
      "execution_count": null,
      "metadata": {
        "id": "TzpZxCx66mlO"
      },
      "outputs": [],
      "source": [
        "import logging\n",
        "\n",
        "[logging.root.removeHandler(h) for h in logging.root.handlers]\n",
        "logging.basicConfig(\n",
        "    level=logging.INFO, format=\"%(asctime)s [%(name)s] %(levelname)-8s %(message)s\"\n",
        ")"
      ]
    },
    {
      "cell_type": "code",
      "execution_count": null,
      "metadata": {
        "id": "0QL_ZCes6nEz"
      },
      "outputs": [],
      "source": [
        "!sfy login --relogin"
      ]
    },
    {
      "cell_type": "markdown",
      "metadata": {
        "id": "5eDM6Z6r6q8G"
      },
      "source": [
        "### Workspace FQN\n",
        "\n",
        "Once you run the cell below you will get a prompt to enter your workspace. <br>\n",
        "\n",
        "- Step 1: Click on the link given in the prompt.\n",
        "- Step 2: Identify the Workspace you want to deploy the application in.\n",
        "- Step 3: Copy the Workspace FQN <br>\n",
        "  ![Copying Workspace FQN](https://files.readme.io/730fee2-Screenshot_2023-02-28_at_2.08.34_PM.png)\n",
        "- Step 4: Paste the Workspace FQN in the prompt and press enter.\n"
      ]
    },
    {
      "cell_type": "code",
      "execution_count": null,
      "metadata": {
        "id": "4AU4ufGu6tpT"
      },
      "outputs": [],
      "source": [
        "# Copy workspace FQN from https://app.truefoundry.com/workspaces\n",
        "from getpass import getpass\n",
        "\n",
        "WORKSPACE_FQN = getpass(\n",
        "    \"Please enter you WORKSPACE_FQN (https://app.truefoundry.com/workspaces):\"\n",
        ")"
      ]
    },
    {
      "cell_type": "markdown",
      "metadata": {
        "id": "YgYmmw0Q6xPz"
      },
      "source": [
        "### API KEY\n",
        "\n",
        "Once you run the cell below you will get a prompt to enter your API KEY. <br>\n",
        "\n",
        "- Step 1: Click on the link given in the prompt.\n",
        "- Step 2: Click on Create New API Key button\n",
        "- Step 3: Enter the name you want to give to the API KEY and then click on generate\n",
        "- Step 4: Copy the API KEY, You can also download the API KEY for later use <br>\n",
        "  ![Copying API KEY](https://files.readme.io/201c8aa-Screenshot_2023-02-28_at_2.28.17_PM.png)\n",
        "- Step 5: Paste the API KEY in the prompt and press enter.\n"
      ]
    },
    {
      "cell_type": "code",
      "execution_count": null,
      "metadata": {
        "id": "lo_reLjH6zua"
      },
      "outputs": [],
      "source": [
        "TFY_API_KEY = getpass(\n",
        "    \"Please enter your API Key (https://app.truefoundry.com/settings):\"\n",
        ")"
      ]
    },
    {
      "cell_type": "markdown",
      "metadata": {
        "id": "IgTqSS3Q7J46"
      },
      "source": [
        "## Step 1: Implement the training code\n",
        "\n",
        "The first step is to create a job that trains a scikit learn model on iris dataset\n",
        "\n",
        "We start with a `train.py` containing our training code and `requirements.txt` with our dependencies.\n",
        "\n",
        "```\n",
        ".\n",
        "├── train.py\n",
        "└── requirements.txt\n",
        "```\n"
      ]
    },
    {
      "cell_type": "markdown",
      "metadata": {
        "id": "ewNT1fG07tRY"
      },
      "source": [
        "### **`train.py`**\n"
      ]
    },
    {
      "cell_type": "code",
      "execution_count": null,
      "metadata": {
        "colab": {
          "base_uri": "https://localhost:8080/"
        },
        "id": "LuU9kOzv7Ci7",
        "outputId": "002753bd-6b23-48ff-aff6-9fa5c0f380d6"
      },
      "outputs": [],
      "source": [
        "%%writefile train.py\n",
        "from sklearn.datasets import load_iris\n",
        "from sklearn.model_selection import train_test_split\n",
        "from sklearn.linear_model import LogisticRegression\n",
        "from sklearn.metrics import classification_report\n",
        "\n",
        "# load the dataset\n",
        "X, y = load_iris(as_frame=True, return_X_y=True)\n",
        "X = X.rename(columns={\n",
        "        \"sepal length (cm)\": \"sepal_length\",\n",
        "        \"sepal width (cm)\": \"sepal_width\",\n",
        "        \"petal length (cm)\": \"petal_length\",\n",
        "        \"petal width (cm)\": \"petal_width\",\n",
        "})\n",
        "\n",
        "# NOTE:- You can pass these configurations via command line\n",
        "# arguments, config file, environment variables.\n",
        "X_train, X_test, y_train, y_test = train_test_split(\n",
        "    X, y, test_size=0.2, random_state=42, stratify=y\n",
        ")\n",
        "\n",
        "# Initialize the model\n",
        "clf = LogisticRegression(solver=\"liblinear\")\n",
        "# Fit the model\n",
        "clf.fit(X_train, y_train)\n",
        "\n",
        "preds = clf.predict(X_test)\n",
        "print(classification_report(y_true=y_test, y_pred=preds))"
      ]
    },
    {
      "cell_type": "markdown",
      "metadata": {
        "id": "Exa3CI-T7jnR"
      },
      "source": [
        "Click on this [link](https://docs.truefoundry.com/v0.1.1/recipes/training-a-scikit-learn-model) to understand the **`app.py`**:\n"
      ]
    },
    {
      "cell_type": "markdown",
      "metadata": {
        "id": "c1zqWidl7yTS"
      },
      "source": [
        "### **`requirements.txt`**\n"
      ]
    },
    {
      "cell_type": "code",
      "execution_count": null,
      "metadata": {
        "colab": {
          "base_uri": "https://localhost:8080/"
        },
        "id": "vHJts2tR7bfw",
        "outputId": "7b4c8cbb-2e42-4e6c-e265-d7acf59ffc6a"
      },
      "outputs": [],
      "source": [
        "%%writefile requirements.txt\n",
        "pandas==1.4.4\n",
        "numpy==1.22.4\n",
        "scikit-learn==1.2.2\n",
        "\n",
        "# for deploying our job deployments\n",
        "servicefoundry==0.10.1"
      ]
    },
    {
      "cell_type": "markdown",
      "metadata": {
        "id": "vtwCrPGJ750K"
      },
      "source": [
        "## Step 2: Deploying as a Job\n",
        "\n",
        "You can deploy services on Truefoundry programmatically via our **Python SDK**.\n",
        "\n",
        "Create the `deploy.py`, after which our file structure will look like this:\n",
        "\n",
        "**File Structure**\n",
        "\n",
        "```Text Text\n",
        ".\n",
        "├── train.py\n",
        "├── deploy.py\n",
        "└── requirements.txt\n",
        "```\n",
        "\n",
        "### **`deploy.py`**\n"
      ]
    },
    {
      "cell_type": "code",
      "execution_count": null,
      "metadata": {
        "colab": {
          "base_uri": "https://localhost:8080/"
        },
        "id": "jc-yRSkE7xdD",
        "outputId": "ffa6fcc8-f43d-4238-8138-ed5131b2322c"
      },
      "outputs": [],
      "source": [
        "%%writefile deploy.py\n",
        "import argparse\n",
        "import logging\n",
        "from servicefoundry import Build, Job, PythonBuild\n",
        "\n",
        "logging.basicConfig(level=logging.INFO)\n",
        "\n",
        "parser = argparse.ArgumentParser()\n",
        "parser.add_argument(\"--workspace_fqn\", required=True, type=str)\n",
        "args = parser.parse_args()\n",
        "\n",
        "# First we define how to build our code into a Docker image\n",
        "image = Build(\n",
        "    build_spec=PythonBuild(\n",
        "        command=\"python train.py\",\n",
        "        requirements_path=\"requirements.txt\",\n",
        "    )\n",
        ")\n",
        "\n",
        "job = Job(\n",
        "    name=\"iris-train-job\",\n",
        "    image=image\n",
        ")\n",
        "job.deploy(workspace_fqn=args.workspace)"
      ]
    },
    {
      "cell_type": "markdown",
      "metadata": {
        "id": "Ac89hU5U8tUy"
      },
      "source": [
        "Click on this [link](https://docs.truefoundry.com/recipes/deploy-training-code-as-a-job) to understand the **`deploy.py`**:\n"
      ]
    },
    {
      "cell_type": "markdown",
      "metadata": {
        "id": "6bjVtz5v829H"
      },
      "source": [
        "Now to deploy our Job run the command below\n"
      ]
    },
    {
      "cell_type": "code",
      "execution_count": null,
      "metadata": {
        "colab": {
          "base_uri": "https://localhost:8080/"
        },
        "id": "OBNeK70h85L1",
        "outputId": "58c98c1d-9622-46b3-e977-8eb9e195d22b"
      },
      "outputs": [],
      "source": [
        "!python deploy.py --workspace_fqn $WORKSPACE_FQN"
      ]
    },
    {
      "cell_type": "code",
      "execution_count": null,
      "metadata": {},
      "outputs": [],
      "source": []
    }
  ],
  "metadata": {
    "colab": {
      "provenance": []
    },
    "kernelspec": {
      "display_name": "Python 3",
      "name": "python3"
    },
    "language_info": {
      "codemirror_mode": {
        "name": "ipython",
        "version": 3
      },
      "file_extension": ".py",
      "mimetype": "text/x-python",
      "name": "python",
      "nbconvert_exporter": "python",
      "pygments_lexer": "ipython3",
      "version": "3.10.12"
    }
  },
  "nbformat": 4,
  "nbformat_minor": 0
}
